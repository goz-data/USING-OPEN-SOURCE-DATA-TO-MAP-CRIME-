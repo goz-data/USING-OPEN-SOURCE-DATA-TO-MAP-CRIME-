{
 "cells": [
  {
   "cell_type": "code",
   "execution_count": 11,
   "metadata": {},
   "outputs": [],
   "source": [
    "import pandas as pd\n",
    "from matplotlib import pyplot as plt\n",
    "from pylab import figure, axes, pie, title, show\n",
    "%matplotlib inline\n",
    "import numpy as np"
   ]
  },
  {
   "cell_type": "code",
   "execution_count": 13,
   "metadata": {},
   "outputs": [
    {
     "data": {
      "text/html": [
       "<div>\n",
       "<style scoped>\n",
       "    .dataframe tbody tr th:only-of-type {\n",
       "        vertical-align: middle;\n",
       "    }\n",
       "\n",
       "    .dataframe tbody tr th {\n",
       "        vertical-align: top;\n",
       "    }\n",
       "\n",
       "    .dataframe thead th {\n",
       "        text-align: right;\n",
       "    }\n",
       "</style>\n",
       "<table border=\"1\" class=\"dataframe\">\n",
       "  <thead>\n",
       "    <tr style=\"text-align: right;\">\n",
       "      <th></th>\n",
       "      <th>Seasons</th>\n",
       "      <th>Burglary Percentage</th>\n",
       "      <th>Month</th>\n",
       "      <th>Rank</th>\n",
       "      <th>Figure</th>\n",
       "    </tr>\n",
       "  </thead>\n",
       "  <tbody>\n",
       "    <tr>\n",
       "      <td>0</td>\n",
       "      <td>Winter</td>\n",
       "      <td>15.50</td>\n",
       "      <td>Jan-Feb</td>\n",
       "      <td>4</td>\n",
       "      <td>808</td>\n",
       "    </tr>\n",
       "    <tr>\n",
       "      <td>1</td>\n",
       "      <td>Spring</td>\n",
       "      <td>26.86</td>\n",
       "      <td>Mar-May</td>\n",
       "      <td>2</td>\n",
       "      <td>1400</td>\n",
       "    </tr>\n",
       "    <tr>\n",
       "      <td>2</td>\n",
       "      <td>Summer</td>\n",
       "      <td>24.54</td>\n",
       "      <td>Jun-Aug</td>\n",
       "      <td>3</td>\n",
       "      <td>1279</td>\n",
       "    </tr>\n",
       "    <tr>\n",
       "      <td>3</td>\n",
       "      <td>Autumn</td>\n",
       "      <td>33.10</td>\n",
       "      <td>Sept-Dec</td>\n",
       "      <td>1</td>\n",
       "      <td>1724</td>\n",
       "    </tr>\n",
       "  </tbody>\n",
       "</table>\n",
       "</div>"
      ],
      "text/plain": [
       "  Seasons  Burglary Percentage     Month  Rank  Figure\n",
       "0  Winter                15.50   Jan-Feb     4     808\n",
       "1  Spring                26.86   Mar-May     2    1400\n",
       "2  Summer                24.54   Jun-Aug     3    1279\n",
       "3  Autumn                33.10  Sept-Dec     1    1724"
      ]
     },
     "execution_count": 13,
     "metadata": {},
     "output_type": "execute_result"
    }
   ],
   "source": [
    "pd.DataFrame({ 'Seasons': ['Winter', 'Spring', 'Summer', 'Autumn'], 'Burglary Percentage': [15.50, 26.86, 24.54, 33.10], 'Month': ['Jan-Feb', 'Mar-May', 'Jun-Aug', 'Sept-Dec'], 'Rank': [4, 2, 3, 1], 'Figure': [808, 1400, 1279, 1724]})"
   ]
  },
  {
   "cell_type": "code",
   "execution_count": 16,
   "metadata": {},
   "outputs": [],
   "source": [
    "csiData_1 = pd.DataFrame({ 'Seasons': ['Winter', 'Spring', 'Summer', 'Autumn'], 'Burglary Percentage': [15.50, 26.86, 24.54, 33.10], 'Month': ['Jan-Feb', 'Mar-May', 'Jun-Aug', 'Sept-Dec'], 'Rank': [4, 2, 3, 1], 'Figure': [808, 1400, 1279, 1724]})"
   ]
  },
  {
   "cell_type": "code",
   "execution_count": 17,
   "metadata": {},
   "outputs": [
    {
     "data": {
      "text/html": [
       "<div>\n",
       "<style scoped>\n",
       "    .dataframe tbody tr th:only-of-type {\n",
       "        vertical-align: middle;\n",
       "    }\n",
       "\n",
       "    .dataframe tbody tr th {\n",
       "        vertical-align: top;\n",
       "    }\n",
       "\n",
       "    .dataframe thead th {\n",
       "        text-align: right;\n",
       "    }\n",
       "</style>\n",
       "<table border=\"1\" class=\"dataframe\">\n",
       "  <thead>\n",
       "    <tr style=\"text-align: right;\">\n",
       "      <th></th>\n",
       "      <th>Seasons</th>\n",
       "      <th>Burglary Percentage</th>\n",
       "      <th>Month</th>\n",
       "      <th>Rank</th>\n",
       "      <th>Figure</th>\n",
       "    </tr>\n",
       "  </thead>\n",
       "  <tbody>\n",
       "    <tr>\n",
       "      <td>0</td>\n",
       "      <td>Winter</td>\n",
       "      <td>15.50</td>\n",
       "      <td>Jan-Feb</td>\n",
       "      <td>4</td>\n",
       "      <td>808</td>\n",
       "    </tr>\n",
       "    <tr>\n",
       "      <td>1</td>\n",
       "      <td>Spring</td>\n",
       "      <td>26.86</td>\n",
       "      <td>Mar-May</td>\n",
       "      <td>2</td>\n",
       "      <td>1400</td>\n",
       "    </tr>\n",
       "    <tr>\n",
       "      <td>2</td>\n",
       "      <td>Summer</td>\n",
       "      <td>24.54</td>\n",
       "      <td>Jun-Aug</td>\n",
       "      <td>3</td>\n",
       "      <td>1279</td>\n",
       "    </tr>\n",
       "    <tr>\n",
       "      <td>3</td>\n",
       "      <td>Autumn</td>\n",
       "      <td>33.10</td>\n",
       "      <td>Sept-Dec</td>\n",
       "      <td>1</td>\n",
       "      <td>1724</td>\n",
       "    </tr>\n",
       "  </tbody>\n",
       "</table>\n",
       "</div>"
      ],
      "text/plain": [
       "  Seasons  Burglary Percentage     Month  Rank  Figure\n",
       "0  Winter                15.50   Jan-Feb     4     808\n",
       "1  Spring                26.86   Mar-May     2    1400\n",
       "2  Summer                24.54   Jun-Aug     3    1279\n",
       "3  Autumn                33.10  Sept-Dec     1    1724"
      ]
     },
     "execution_count": 17,
     "metadata": {},
     "output_type": "execute_result"
    }
   ],
   "source": [
    "csiData_1"
   ]
  },
  {
   "cell_type": "code",
   "execution_count": 18,
   "metadata": {},
   "outputs": [
    {
     "data": {
      "image/png": "[encoded data removed]",
      "text/plain": [
       "<Figure size 432x432 with 1 Axes>"
      ]
     },
     "metadata": {},
     "output_type": "display_data"
    }
   ],
   "source": [
    "figure(1, figsize=(6, 6))\n",
    "ax = axes([0.1, 0.1, 0.8, 0.8])\n",
    "\n",
    "labels = 'Winter', 'Spring', 'Summer', 'Autumn'\n",
    "fracs = [15.50, 26.86, 24.54, 33.10]\n",
    "\n",
    "explode = (0, 0.05, 0, 0)\n",
    "pie(fracs, explode=explode, labels=labels, autopct='%1.1f%%', shadow=True)\n",
    "title('Percentage of Burglary in Cleveland Across the four Seasons in the UK for the Year 2019', bbox={'facecolor': '0.8', 'pad': 5})\n",
    "\n",
    "plt.savefig('Percentage of Burglary in Cleveland Across the four Seasons in the Uk.jpeg', transparent=True, bbox_inches='tight')"
   ]
  },
  {
   "cell_type": "code",
   "execution_count": null,
   "metadata": {},
   "outputs": [],
   "source": []
  },
  {
   "cell_type": "code",
   "execution_count": null,
   "metadata": {},
   "outputs": [],
   "source": []
  },
  {
   "cell_type": "code",
   "execution_count": null,
   "metadata": {},
   "outputs": [],
   "source": []
  }
 ],
 "metadata": {
  "kernelspec": {
   "display_name": "Python 3",
   "language": "python",
   "name": "python3"
  },
  "language_info": {
   "codemirror_mode": {
    "name": "ipython",
    "version": 3
   },
   "file_extension": ".py",
   "mimetype": "text/x-python",
   "name": "python",
   "nbconvert_exporter": "python",
   "pygments_lexer": "ipython3",
   "version": "3.7.4"
  }
 },
 "nbformat": 4,
 "nbformat_minor": 2
}
