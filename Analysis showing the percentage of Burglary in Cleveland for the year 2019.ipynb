{
 "cells": [
  {
   "cell_type": "code",
   "execution_count": 1,
   "metadata": {},
   "outputs": [],
   "source": [
    "import pandas as pd\n",
    "from matplotlib import pyplot as plt\n",
    "from pylab import figure, axes, pie, title, show\n",
    "%matplotlib inline\n",
    "import numpy as np"
   ]
  },
  {
   "cell_type": "code",
   "execution_count": 2,
   "metadata": {},
   "outputs": [
    {
     "data": {
      "text/html": [
       "<div>\n",
       "<style scoped>\n",
       "    .dataframe tbody tr th:only-of-type {\n",
       "        vertical-align: middle;\n",
       "    }\n",
       "\n",
       "    .dataframe tbody tr th {\n",
       "        vertical-align: top;\n",
       "    }\n",
       "\n",
       "    .dataframe thead th {\n",
       "        text-align: right;\n",
       "    }\n",
       "</style>\n",
       "<table border=\"1\" class=\"dataframe\">\n",
       "  <thead>\n",
       "    <tr style=\"text-align: right;\">\n",
       "      <th></th>\n",
       "      <th>Seasons</th>\n",
       "      <th>Burglary Percentage</th>\n",
       "      <th>Month</th>\n",
       "      <th>Rank</th>\n",
       "      <th>Figure</th>\n",
       "    </tr>\n",
       "  </thead>\n",
       "  <tbody>\n",
       "    <tr>\n",
       "      <td>0</td>\n",
       "      <td>Summer</td>\n",
       "      <td>24.54</td>\n",
       "      <td>Jun-Aug</td>\n",
       "      <td>1</td>\n",
       "      <td>1279</td>\n",
       "    </tr>\n",
       "    <tr>\n",
       "      <td>1</td>\n",
       "      <td>Autumn</td>\n",
       "      <td>24.45</td>\n",
       "      <td>Sept-Nov</td>\n",
       "      <td>2</td>\n",
       "      <td>1274</td>\n",
       "    </tr>\n",
       "    <tr>\n",
       "      <td>2</td>\n",
       "      <td>Winter</td>\n",
       "      <td>24.14</td>\n",
       "      <td>Dec-Feb</td>\n",
       "      <td>4</td>\n",
       "      <td>1258</td>\n",
       "    </tr>\n",
       "    <tr>\n",
       "      <td>3</td>\n",
       "      <td>Spring</td>\n",
       "      <td>26.87</td>\n",
       "      <td>Mar-May</td>\n",
       "      <td>3</td>\n",
       "      <td>1400</td>\n",
       "    </tr>\n",
       "  </tbody>\n",
       "</table>\n",
       "</div>"
      ],
      "text/plain": [
       "  Seasons  Burglary Percentage     Month  Rank  Figure\n",
       "0  Summer                24.54   Jun-Aug     1    1279\n",
       "1  Autumn                24.45  Sept-Nov     2    1274\n",
       "2  Winter                24.14   Dec-Feb     4    1258\n",
       "3  Spring                26.87   Mar-May     3    1400"
      ]
     },
     "execution_count": 2,
     "metadata": {},
     "output_type": "execute_result"
    }
   ],
   "source": [
    "pd.DataFrame({ 'Seasons': ['Summer', 'Autumn', 'Winter', 'Spring'], 'Burglary Percentage': [24.54, 24.45, 24.14, 26.87], 'Month': ['Jun-Aug', 'Sept-Nov', 'Dec-Feb', 'Mar-May'], 'Rank': [1, 2, 4, 3], 'Figure': [1279, 1274, 1258, 1400]})"
   ]
  },
  {
   "cell_type": "code",
   "execution_count": 3,
   "metadata": {},
   "outputs": [],
   "source": [
    "csiData_1 = pd.DataFrame({ 'Seasons': ['Summer', 'Autumn', 'Winter', 'Spring'], 'Burglary Percentage': [24.54, 24.45, 24.14, 26.87], 'Month': ['Jun-Aug', 'Sept-Nov', 'Dec-Feb', 'Mar-May'], 'Rank': [1, 2, 4, 3], 'Figure': [1279, 1274, 1258, 1400]})"
   ]
  },
  {
   "cell_type": "code",
   "execution_count": 4,
   "metadata": {},
   "outputs": [
    {
     "data": {
      "text/html": [
       "<div>\n",
       "<style scoped>\n",
       "    .dataframe tbody tr th:only-of-type {\n",
       "        vertical-align: middle;\n",
       "    }\n",
       "\n",
       "    .dataframe tbody tr th {\n",
       "        vertical-align: top;\n",
       "    }\n",
       "\n",
       "    .dataframe thead th {\n",
       "        text-align: right;\n",
       "    }\n",
       "</style>\n",
       "<table border=\"1\" class=\"dataframe\">\n",
       "  <thead>\n",
       "    <tr style=\"text-align: right;\">\n",
       "      <th></th>\n",
       "      <th>Seasons</th>\n",
       "      <th>Burglary Percentage</th>\n",
       "      <th>Month</th>\n",
       "      <th>Rank</th>\n",
       "      <th>Figure</th>\n",
       "    </tr>\n",
       "  </thead>\n",
       "  <tbody>\n",
       "    <tr>\n",
       "      <td>0</td>\n",
       "      <td>Summer</td>\n",
       "      <td>24.54</td>\n",
       "      <td>Jun-Aug</td>\n",
       "      <td>1</td>\n",
       "      <td>1279</td>\n",
       "    </tr>\n",
       "    <tr>\n",
       "      <td>1</td>\n",
       "      <td>Autumn</td>\n",
       "      <td>24.45</td>\n",
       "      <td>Sept-Nov</td>\n",
       "      <td>2</td>\n",
       "      <td>1274</td>\n",
       "    </tr>\n",
       "    <tr>\n",
       "      <td>2</td>\n",
       "      <td>Winter</td>\n",
       "      <td>24.14</td>\n",
       "      <td>Dec-Feb</td>\n",
       "      <td>4</td>\n",
       "      <td>1258</td>\n",
       "    </tr>\n",
       "    <tr>\n",
       "      <td>3</td>\n",
       "      <td>Spring</td>\n",
       "      <td>26.87</td>\n",
       "      <td>Mar-May</td>\n",
       "      <td>3</td>\n",
       "      <td>1400</td>\n",
       "    </tr>\n",
       "  </tbody>\n",
       "</table>\n",
       "</div>"
      ],
      "text/plain": [
       "  Seasons  Burglary Percentage     Month  Rank  Figure\n",
       "0  Summer                24.54   Jun-Aug     1    1279\n",
       "1  Autumn                24.45  Sept-Nov     2    1274\n",
       "2  Winter                24.14   Dec-Feb     4    1258\n",
       "3  Spring                26.87   Mar-May     3    1400"
      ]
     },
     "execution_count": 4,
     "metadata": {},
     "output_type": "execute_result"
    }
   ],
   "source": [
    "csiData_1"
   ]
  },
  {
   "cell_type": "code",
   "execution_count": 5,
   "metadata": {},
   "outputs": [
    {
     "data": {
      "image/png": "[encoded data removed]",
      "text/plain": [
       "<Figure size 432x432 with 1 Axes>"
      ]
     },
     "metadata": {},
     "output_type": "display_data"
    }
   ],
   "source": [
    "figure(1, figsize=(6, 6))\n",
    "ax = axes([0.1, 0.1, 0.8, 0.8])\n",
    "\n",
    "labels = 'Summer', 'Autumn', 'Winter', 'Spring'\n",
    "fracs = [24.54, 24.45, 24.14, 26.87]\n",
    "\n",
    "explode = (0, 0.05, 0, 0)\n",
    "pie(fracs, explode=explode, labels=labels, autopct='%1.1f%%', shadow=True)\n",
    "title('Percentage of Burglary in Cleveland Across the four Seasons in the UK for the Year 2019', bbox={'facecolor': '0.8', 'pad': 5})\n",
    "\n",
    "plt.savefig('Percentage of Burglary in Cleveland Across the four Seasons in the Uk.jpeg', transparent=True, bbox_inches='tight')"
   ]
  },
  {
   "cell_type": "code",
   "execution_count": null,
   "metadata": {},
   "outputs": [],
   "source": []
  }
 ],
 "metadata": {
  "kernelspec": {
   "display_name": "Python 3",
   "language": "python",
   "name": "python3"
  },
  "language_info": {
   "codemirror_mode": {
    "name": "ipython",
    "version": 3
   },
   "file_extension": ".py",
   "mimetype": "text/x-python",
   "name": "python",
   "nbconvert_exporter": "python",
   "pygments_lexer": "ipython3",
   "version": "3.7.4"
  }
 },
 "nbformat": 4,
 "nbformat_minor": 2
}
